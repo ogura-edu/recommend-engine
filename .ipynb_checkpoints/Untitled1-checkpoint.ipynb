{
 "cells": [
  {
   "cell_type": "markdown",
   "metadata": {},
   "source": [
    "# 協調フィルタリング"
   ]
  },
  {
   "cell_type": "markdown",
   "metadata": {},
   "source": [
    "## アイテムベース"
   ]
  },
  {
   "cell_type": "code",
   "execution_count": 1,
   "metadata": {
    "collapsed": true
   },
   "outputs": [],
   "source": [
    "import numpy as np"
   ]
  },
  {
   "cell_type": "code",
   "execution_count": 4,
   "metadata": {
    "collapsed": true
   },
   "outputs": [],
   "source": [
    "user = 943\n",
    "item = 1682\n",
    "rating = 100000"
   ]
  },
  {
   "cell_type": "code",
   "execution_count": 7,
   "metadata": {},
   "outputs": [],
   "source": [
    "A = np.zeros((user, item))\n",
    "with open('ml-100k/u.data') as f:\n",
    "    for line in f:\n",
    "        uid, iid, rat, _ = map(int, line.split())\n",
    "        A[uid-1, iid-1] = rat"
   ]
  },
  {
   "cell_type": "code",
   "execution_count": 62,
   "metadata": {},
   "outputs": [],
   "source": [
    "def cos_sim_matrix(matrix):\n",
    "    \"\"\"\n",
    "    matrix = (user-1, item)\n",
    "    rating=0は評価していないことを表すので、このまま使うと本当の類似度ではなくなってしまう。\n",
    "    両方評価している人の評価を元にアイテム間の類似度を計算すべき\n",
    "    例えばx1とx2の類似度(sim12に相当)計算では、\n",
    "        x11*x21 + x12*x22 + ... + x1n*x2n\n",
    "    となっている…のでこの部分は片方が0なら形状されず問題ない。\n",
    "    normの部分を直せば良さそう。共通の部分のみ考えたノルムにする？\n",
    "    \"\"\"\n",
    "    #norm = np.linalg.norm(matrix, axis=0)\n",
    "    #normed_matrix = matrix / norm[None, :]\n",
    "    #return normed_matrix.T @ normed_matrix\n",
    "    \n",
    "    \n",
    "    item = matrix.shape[1]\n",
    "    sim = np.zeros((item, item))\n",
    "    for i in range(item):\n",
    "        for j in range(i, item):\n",
    "            # アイテムiとアイテムjの類似度を計算\n",
    "            if i == j:\n",
    "                sim[i, j] = 1.\n",
    "                continue\n",
    "                \n",
    "            x1 = matrix[:, i]\n",
    "            x2 = matrix[:, j]\n",
    "            common = np.logical_and(x1 != 0, x2 != 0)\n",
    "            if sum(common) > 1:\n",
    "                x1 = x1[common]\n",
    "                x2 = x2[common]\n",
    "                sim[i, j] = x1 @ x2 / np.linalg.norm(x1) / np.linalg.norm(x2)\n",
    "                sim[j, i] = sim[i, j]\n",
    "    \n",
    "    return sim"
   ]
  },
  {
   "cell_type": "code",
   "execution_count": null,
   "metadata": {
    "scrolled": true
   },
   "outputs": [],
   "source": [
    "sim = cos_sim_matrix(A[1:])"
   ]
  },
  {
   "cell_type": "code",
   "execution_count": 54,
   "metadata": {},
   "outputs": [
    {
     "data": {
      "text/plain": [
       "array([[ 1.        ,  0.94876356,  0.91144478, ...,  0.        ,\n",
       "         1.        ,  1.        ],\n",
       "       [ 0.94876356,  1.        ,  0.90716458, ...,  0.        ,\n",
       "         1.        ,  1.        ],\n",
       "       [ 0.91144478,  0.90716458,  1.        , ...,  0.        ,\n",
       "         0.        ,  1.        ],\n",
       "       ..., \n",
       "       [ 0.        ,  0.        ,  0.        , ...,  1.        ,\n",
       "         0.        ,  0.        ],\n",
       "       [ 1.        ,  1.        ,  0.        , ...,  0.        ,\n",
       "         1.        ,  0.        ],\n",
       "       [ 1.        ,  1.        ,  1.        , ...,  0.        ,\n",
       "         0.        ,  1.        ]])"
      ]
     },
     "execution_count": 54,
     "metadata": {},
     "output_type": "execute_result"
    }
   ],
   "source": [
    "sim"
   ]
  },
  {
   "cell_type": "code",
   "execution_count": null,
   "metadata": {
    "collapsed": true
   },
   "outputs": [],
   "source": []
  }
 ],
 "metadata": {
  "kernelspec": {
   "display_name": "Python 3",
   "language": "python",
   "name": "python3"
  },
  "language_info": {
   "codemirror_mode": {
    "name": "ipython",
    "version": 3
   },
   "file_extension": ".py",
   "mimetype": "text/x-python",
   "name": "python",
   "nbconvert_exporter": "python",
   "pygments_lexer": "ipython3",
   "version": "3.5.2"
  }
 },
 "nbformat": 4,
 "nbformat_minor": 2
}
